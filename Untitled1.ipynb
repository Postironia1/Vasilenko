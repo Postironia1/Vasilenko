{
  "nbformat": 4,
  "nbformat_minor": 0,
  "metadata": {
    "colab": {
      "provenance": [],
      "authorship_tag": "ABX9TyOEVBHWsWlH3fjldzMcoLMz",
      "include_colab_link": true
    },
    "kernelspec": {
      "name": "python3",
      "display_name": "Python 3"
    },
    "language_info": {
      "name": "python"
    }
  },
  "cells": [
    {
      "cell_type": "markdown",
      "metadata": {
        "id": "view-in-github",
        "colab_type": "text"
      },
      "source": [
        "<a href=\"https://colab.research.google.com/github/Postironia1/Vasilenko/blob/main/Untitled1.ipynb\" target=\"_parent\"><img src=\"https://colab.research.google.com/assets/colab-badge.svg\" alt=\"Open In Colab\"/></a>"
      ]
    },
    {
      "cell_type": "code",
      "execution_count": 13,
      "metadata": {
        "colab": {
          "base_uri": "https://localhost:8080/"
        },
        "id": "9ycioC27avMz",
        "outputId": "fea63d40-ba4c-4be1-e9ba-4756ebf4c350"
      },
      "outputs": [
        {
          "output_type": "stream",
          "name": "stdout",
          "text": [
            "5152535455\n",
            "VWXYZ\n"
          ]
        }
      ],
      "source": [
        "import string\n",
        "\n",
        "# Create the Polybius Square grid\n",
        "grid = [['A', 'B', 'C', 'D', 'E'],\n",
        "        ['F', 'G', 'H', 'I/J', 'K'],\n",
        "        ['L', 'M', 'N', 'O', 'P'],\n",
        "        ['Q', 'R', 'S', 'T', 'U'],\n",
        "        ['V', 'W', 'X', 'Y', 'Z']]\n",
        "\n",
        "# Create a dictionary to map letters to their grid coordinates\n",
        "letter_to_coords = {}\n",
        "for row in range(5):\n",
        "    for col in range(5):\n",
        "        letter = grid[row][col]\n",
        "        letter_to_coords[letter] = (row, col)\n",
        "\n",
        "# Create a dictionary to map grid coordinates to their letters\n",
        "coords_to_letter = {}\n",
        "for letter, coords in letter_to_coords.items():\n",
        "    coords_to_letter[coords] = letter\n",
        "\n",
        "\n",
        "def polybius_encode(plaintext):\n",
        "    # Преобразуйте открытый текст в верхний регистр и удалите все неалфавитные символы\n",
        "    plaintext = plaintext.upper()\n",
        "    plaintext = ''.join(c for c in plaintext if c in string.ascii_uppercase)\n",
        "\n",
        "    # Замените каждую букву соответствующими координатами сетки\n",
        "    coords = [letter_to_coords[c] for c in plaintext]\n",
        "\n",
        "    # Преобразуйте координаты сетки в строку чисел\n",
        "    encoded = ''.join(f'{row + 1}{col + 1}' for row, col in coords)\n",
        "\n",
        "    return encoded\n",
        "\n",
        "\n",
        "def polybius_decode(ciphertext):\n",
        "    # Преобразуйте зашифрованный текст в список координат сетки\n",
        "    coords = [(int(c[0]) - 1, int(c[1]) - 1) for c in zip(ciphertext[::2], ciphertext[1::2])]\n",
        "\n",
        "    # Преобразуйте координаты сетки в строку букв\n",
        "    decoded = ''.join(coords_to_letter[c] for c in coords)\n",
        "\n",
        "    return decoded\n",
        "\n",
        "plaintext = 'VWXYZ'\n",
        "ciphertext = polybius_encode(plaintext)\n",
        "print(ciphertext)\n",
        "\n",
        "decoded_plaintext = polybius_decode(ciphertext)\n",
        "print(decoded_plaintext)  "
      ]
    },
    {
      "cell_type": "code",
      "source": [
        "def scytale_encrypt(plaintext, key):\n",
        "    # ключ - кол-во строк\n",
        "\n",
        "    # Рассчитываем кол-во столбцов\n",
        "    num_rows = (len(plaintext) + key - 1) // key\n",
        "\n",
        "    # Добавление пробелов в конец при необходимости\n",
        "    plaintext += ' ' * (num_rows * key - len(plaintext))\n",
        "\n",
        "    # Запись текста спиралью (записываем каждую key букву)\n",
        "    ciphertext = ''\n",
        "    for i in range(key):\n",
        "        for j in range(num_rows):\n",
        "            ciphertext += plaintext[j * key + i]\n",
        "\n",
        "    return ciphertext\n",
        "\n",
        "\n",
        "def scytale_decrypt(ciphertext, key):\n",
        "    # Рассчитываем кол-во столбцов\n",
        "    num_rows = (len(ciphertext) + key - 1) // key\n",
        "\n",
        "    # Запись текста (записываем каждую num_rows букву)\n",
        "    plaintext = ''\n",
        "    for i in range(num_rows):\n",
        "        for j in range(key):\n",
        "            plaintext += ciphertext[i + j * num_rows]\n",
        "\n",
        "    return plaintext.strip()\n",
        "\n",
        "\n",
        "plaintext = 'Hello world'\n",
        "key = 4\n",
        "ciphertext = scytale_encrypt(plaintext, key)\n",
        "print(ciphertext)\n",
        "\n",
        "ciphertext = 'Hore llwdlo '\n",
        "key = 4\n",
        "plaintext = scytale_decrypt(ciphertext, key)\n",
        "print(plaintext)"
      ],
      "metadata": {
        "colab": {
          "base_uri": "https://localhost:8080/"
        },
        "id": "ULAGeTwkdBsX",
        "outputId": "c68fb968-d800-4543-cd0c-e3246460e9b2"
      },
      "execution_count": 19,
      "outputs": [
        {
          "output_type": "stream",
          "name": "stdout",
          "text": [
            "Hore llwdlo \n",
            "Hello world\n"
          ]
        }
      ]
    },
    {
      "cell_type": "code",
      "source": [
        "import random\n",
        " \n",
        "alpha = list(\"абвгдеёжзийклмнопрстуфхцчшщъыьэюя-\")\n",
        "random.shuffle(alpha)\n",
        "p = len(alpha) // 2\n",
        "p1, p2 = alpha[:p], alpha[p:]\n",
        " \n",
        "s = 'Шифр пары'  # input()\n",
        "for i in s:\n",
        "    if i in p1:\n",
        "        print(p2[p1.index(i)], end='')\n",
        "    elif i in p2:\n",
        "        print(p1[p2.index(i)], end='')\n",
        "    else:\n",
        "        print(i, end='')"
      ],
      "metadata": {
        "colab": {
          "base_uri": "https://localhost:8080/"
        },
        "id": "k_VaMSgafGfh",
        "outputId": "55e9eceb-0f7f-4fb4-ab92-617d2c922ebf"
      },
      "execution_count": 23,
      "outputs": [
        {
          "output_type": "stream",
          "name": "stdout",
          "text": [
            "Шяэч ончж"
          ]
        }
      ]
    },
    {
      "cell_type": "code",
      "source": [
        "# Составляем словарь\n",
        "def form_dict():\n",
        "    alphabet = list(ascii_letters) + list(digits)\n",
        "    return dict([(i, alphabet[i]) for i in range(len(alphabet))])\n",
        "\n",
        "# Разбираем слово и ключ\n",
        "def encode_val(word):\n",
        "    d = form_dict()\n",
        "    return [k for c in word for k, v in d.items() if v == c]\n",
        "\n",
        "# Шифруем слово:\n",
        "def comparator(value, key):\n",
        "    return dict([(index, list(character))\n",
        "                 for index, character in enumerate(zip(value, cycle(key)))])\n",
        "\n",
        "def full_encode(value, key):\n",
        "    d = comparator(value, key)\n",
        "    l = len(form_dict())\n",
        "    return [(v[0] ^ v[1]) % l for v in d.values()]\n",
        "\n",
        "def full_decode(value, key):\n",
        "    d = comparator(value, key)\n",
        "    l = len(form_dict())\n",
        "    return [(v[0] - v[1]) % l for v in d.values()]\n",
        "\n",
        "#шифруем\n",
        "word = 'habrahabrru'\n",
        "key = 'occaZZion9'\n",
        "print ('Слово: ' + word)\n",
        "print ('Ключ: ' + key)\n",
        "key_encoded = encode_val(key)\n",
        "value_encoded = encode_val(word)\n",
        "encoded_text = full_encode(value_encoded, key_encoded)\n",
        "\n",
        "#пытаемся расшифровать\n",
        "decoded = full_decode(encoded_text, key_encoded)"
      ],
      "metadata": {
        "colab": {
          "base_uri": "https://localhost:8080/",
          "height": 415
        },
        "id": "JhKhvwM6faGz",
        "outputId": "c1eef44d-a263-4400-de5d-f17ef3ac9254"
      },
      "execution_count": 27,
      "outputs": [
        {
          "output_type": "stream",
          "name": "stdout",
          "text": [
            "Слово: habrahabrru\n",
            "Ключ: occaZZion9\n"
          ]
        },
        {
          "output_type": "error",
          "ename": "NameError",
          "evalue": "ignored",
          "traceback": [
            "\u001b[0;31m---------------------------------------------------------------------------\u001b[0m",
            "\u001b[0;31mNameError\u001b[0m                                 Traceback (most recent call last)",
            "\u001b[0;32m<ipython-input-27-49fdd5151385>\u001b[0m in \u001b[0;36m<module>\u001b[0;34m\u001b[0m\n\u001b[1;32m     29\u001b[0m \u001b[0mprint\u001b[0m \u001b[0;34m(\u001b[0m\u001b[0;34m'Слово: '\u001b[0m \u001b[0;34m+\u001b[0m \u001b[0mword\u001b[0m\u001b[0;34m)\u001b[0m\u001b[0;34m\u001b[0m\u001b[0;34m\u001b[0m\u001b[0m\n\u001b[1;32m     30\u001b[0m \u001b[0mprint\u001b[0m \u001b[0;34m(\u001b[0m\u001b[0;34m'Ключ: '\u001b[0m \u001b[0;34m+\u001b[0m \u001b[0mkey\u001b[0m\u001b[0;34m)\u001b[0m\u001b[0;34m\u001b[0m\u001b[0;34m\u001b[0m\u001b[0m\n\u001b[0;32m---> 31\u001b[0;31m \u001b[0mkey_encoded\u001b[0m \u001b[0;34m=\u001b[0m \u001b[0mencode_val\u001b[0m\u001b[0;34m(\u001b[0m\u001b[0mkey\u001b[0m\u001b[0;34m)\u001b[0m\u001b[0;34m\u001b[0m\u001b[0;34m\u001b[0m\u001b[0m\n\u001b[0m\u001b[1;32m     32\u001b[0m \u001b[0mvalue_encoded\u001b[0m \u001b[0;34m=\u001b[0m \u001b[0mencode_val\u001b[0m\u001b[0;34m(\u001b[0m\u001b[0mword\u001b[0m\u001b[0;34m)\u001b[0m\u001b[0;34m\u001b[0m\u001b[0;34m\u001b[0m\u001b[0m\n\u001b[1;32m     33\u001b[0m \u001b[0mencoded_text\u001b[0m \u001b[0;34m=\u001b[0m \u001b[0mfull_encode\u001b[0m\u001b[0;34m(\u001b[0m\u001b[0mvalue_encoded\u001b[0m\u001b[0;34m,\u001b[0m \u001b[0mkey_encoded\u001b[0m\u001b[0;34m)\u001b[0m\u001b[0;34m\u001b[0m\u001b[0;34m\u001b[0m\u001b[0m\n",
            "\u001b[0;32m<ipython-input-27-49fdd5151385>\u001b[0m in \u001b[0;36mencode_val\u001b[0;34m(word)\u001b[0m\n\u001b[1;32m      6\u001b[0m \u001b[0;31m# Разбираем слово и ключ\u001b[0m\u001b[0;34m\u001b[0m\u001b[0;34m\u001b[0m\u001b[0;34m\u001b[0m\u001b[0m\n\u001b[1;32m      7\u001b[0m \u001b[0;32mdef\u001b[0m \u001b[0mencode_val\u001b[0m\u001b[0;34m(\u001b[0m\u001b[0mword\u001b[0m\u001b[0;34m)\u001b[0m\u001b[0;34m:\u001b[0m\u001b[0;34m\u001b[0m\u001b[0;34m\u001b[0m\u001b[0m\n\u001b[0;32m----> 8\u001b[0;31m     \u001b[0md\u001b[0m \u001b[0;34m=\u001b[0m \u001b[0mform_dict\u001b[0m\u001b[0;34m(\u001b[0m\u001b[0;34m)\u001b[0m\u001b[0;34m\u001b[0m\u001b[0;34m\u001b[0m\u001b[0m\n\u001b[0m\u001b[1;32m      9\u001b[0m     \u001b[0;32mreturn\u001b[0m \u001b[0;34m[\u001b[0m\u001b[0mk\u001b[0m \u001b[0;32mfor\u001b[0m \u001b[0mc\u001b[0m \u001b[0;32min\u001b[0m \u001b[0mword\u001b[0m \u001b[0;32mfor\u001b[0m \u001b[0mk\u001b[0m\u001b[0;34m,\u001b[0m \u001b[0mv\u001b[0m \u001b[0;32min\u001b[0m \u001b[0md\u001b[0m\u001b[0;34m.\u001b[0m\u001b[0mitems\u001b[0m\u001b[0;34m(\u001b[0m\u001b[0;34m)\u001b[0m \u001b[0;32mif\u001b[0m \u001b[0mv\u001b[0m \u001b[0;34m==\u001b[0m \u001b[0mc\u001b[0m\u001b[0;34m]\u001b[0m\u001b[0;34m\u001b[0m\u001b[0;34m\u001b[0m\u001b[0m\n\u001b[1;32m     10\u001b[0m \u001b[0;34m\u001b[0m\u001b[0m\n",
            "\u001b[0;32m<ipython-input-27-49fdd5151385>\u001b[0m in \u001b[0;36mform_dict\u001b[0;34m()\u001b[0m\n\u001b[1;32m      1\u001b[0m \u001b[0;31m# Составляем словарь\u001b[0m\u001b[0;34m\u001b[0m\u001b[0;34m\u001b[0m\u001b[0;34m\u001b[0m\u001b[0m\n\u001b[1;32m      2\u001b[0m \u001b[0;32mdef\u001b[0m \u001b[0mform_dict\u001b[0m\u001b[0;34m(\u001b[0m\u001b[0;34m)\u001b[0m\u001b[0;34m:\u001b[0m\u001b[0;34m\u001b[0m\u001b[0;34m\u001b[0m\u001b[0m\n\u001b[0;32m----> 3\u001b[0;31m     \u001b[0malphabet\u001b[0m \u001b[0;34m=\u001b[0m \u001b[0mlist\u001b[0m\u001b[0;34m(\u001b[0m\u001b[0mascii_letters\u001b[0m\u001b[0;34m)\u001b[0m \u001b[0;34m+\u001b[0m \u001b[0mlist\u001b[0m\u001b[0;34m(\u001b[0m\u001b[0mdigits\u001b[0m\u001b[0;34m)\u001b[0m\u001b[0;34m\u001b[0m\u001b[0;34m\u001b[0m\u001b[0m\n\u001b[0m\u001b[1;32m      4\u001b[0m     \u001b[0;32mreturn\u001b[0m \u001b[0mdict\u001b[0m\u001b[0;34m(\u001b[0m\u001b[0;34m[\u001b[0m\u001b[0;34m(\u001b[0m\u001b[0mi\u001b[0m\u001b[0;34m,\u001b[0m \u001b[0malphabet\u001b[0m\u001b[0;34m[\u001b[0m\u001b[0mi\u001b[0m\u001b[0;34m]\u001b[0m\u001b[0;34m)\u001b[0m \u001b[0;32mfor\u001b[0m \u001b[0mi\u001b[0m \u001b[0;32min\u001b[0m \u001b[0mrange\u001b[0m\u001b[0;34m(\u001b[0m\u001b[0mlen\u001b[0m\u001b[0;34m(\u001b[0m\u001b[0malphabet\u001b[0m\u001b[0;34m)\u001b[0m\u001b[0;34m)\u001b[0m\u001b[0;34m]\u001b[0m\u001b[0;34m)\u001b[0m\u001b[0;34m\u001b[0m\u001b[0;34m\u001b[0m\u001b[0m\n\u001b[1;32m      5\u001b[0m \u001b[0;34m\u001b[0m\u001b[0m\n",
            "\u001b[0;31mNameError\u001b[0m: name 'ascii_letters' is not defined"
          ]
        }
      ]
    }
  ]
}